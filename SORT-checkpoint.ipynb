{
 "cells": [
  {
   "cell_type": "code",
   "execution_count": 29,
   "id": "42260835",
   "metadata": {},
   "outputs": [
    {
     "name": "stdout",
     "output_type": "stream",
     "text": [
      "[33, 64, 22, 12, 81, 65, 90]\n"
     ]
    }
   ],
   "source": [
    "x=[90,65,81,12,33,64,22]\n",
    "n=len(x)\n",
    "for i in range(0,n-1):\n",
    "    min=i\n",
    "    for j in range(i,n):\n",
    "        if(x[j]<x[min]):\n",
    "            min=j\n",
    "            temp=x[i]\n",
    "            x[i]=x[min]\n",
    "            x[min]=temp\n",
    "print(x)"
   ]
  },
  {
   "cell_type": "code",
   "execution_count": 28,
   "id": "18eff5e0",
   "metadata": {},
   "outputs": [
    {
     "name": "stdout",
     "output_type": "stream",
     "text": [
      "[12, 22, 33, 64, 65, 81, 90]\n"
     ]
    }
   ],
   "source": [
    "x=[90,65,81,12,33,64,22]\n",
    "n=len(x)\n",
    "for i in range(0,n-1):\n",
    "    for j in range (0,n-1-i):\n",
    "        if (x[j+1]<x[j]):\n",
    "            x[j+1],x[j]=x[j],x[j+1]\n",
    "print(x)"
   ]
  }
 ],
 "metadata": {
  "kernelspec": {
   "display_name": "Python 3 (ipykernel)",
   "language": "python",
   "name": "python3"
  },
  "language_info": {
   "codemirror_mode": {
    "name": "ipython",
    "version": 3
   },
   "file_extension": ".py",
   "mimetype": "text/x-python",
   "name": "python",
   "nbconvert_exporter": "python",
   "pygments_lexer": "ipython3",
   "version": "3.9.13"
  }
 },
 "nbformat": 4,
 "nbformat_minor": 5
}
